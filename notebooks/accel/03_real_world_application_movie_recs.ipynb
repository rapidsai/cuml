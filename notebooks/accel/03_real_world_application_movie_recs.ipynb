{
 "cells": [
  {
   "cell_type": "markdown",
   "id": "bd39c42c",
   "metadata": {},
   "source": [
    "# Real-World Application: Movie Recommendation System\n",
    "\n",
    "In this notebook, we'll build a simple but effective movie recommendation system using `cuml.neighbors.NearestNeighbors`.\n",
    "\n",
    "The goal is to find movies that are \"similar\" to a given movie based on user rating patterns. We will use the popular **[MovieLens dataset](https://grouplens.org/datasets/movielens/)** for this task. The core idea is to treat each movie as a vector in a high-dimensional \"user-rating space\" and then use k-NN to find the closest vectors (i.e., the most similar movies)."
   ]
  },
  {
   "cell_type": "code",
   "execution_count": null,
   "id": "69911a7e",
   "metadata": {},
   "outputs": [],
   "source": [
    "import cudf\n",
    "import cupy as cp\n",
    "import pandas as pd\n",
    "from scipy.sparse import csr_matrix\n",
    "import requests\n",
    "import zipfile\n",
    "import io\n",
    "\n",
    "from cuml.neighbors import NearestNeighbors\n",
    "from cuml.manifold import UMAP\n",
    "import matplotlib.pyplot as plt"
   ]
  },
  {
   "cell_type": "markdown",
   "id": "813e5530",
   "metadata": {},
   "source": [
    "## 1. Data Loading and Exploration\n",
    "\n",
    "First, we'll download the MovieLens dataset and load the `movies.csv` and `ratings.csv` files into Pandas DataFrames. This allows us to inspect the raw data before processing."
   ]
  },
  {
   "cell_type": "code",
   "execution_count": null,
   "id": "1a353d27",
   "metadata": {},
   "outputs": [],
   "source": [
    "# URL for the MovieLens Small dataset\n",
    "url = \"http://files.grouplens.org/datasets/movielens/ml-latest-small.zip\"\n",
    "print(\"Downloading and extracting the MovieLens dataset...\")\n",
    "\n",
    "# Download and extract the file in memory\n",
    "r = requests.get(url)\n",
    "z = zipfile.ZipFile(io.BytesIO(r.content))\n",
    "z.extractall(\"movielens_small\")\n",
    "print(\"Dataset downloaded and extracted.\")\n",
    "\n",
    "# Load the data using pandas\n",
    "movies_df = pd.read_csv(\"movielens_small/ml-latest-small/movies.csv\")\n",
    "ratings_df = pd.read_csv(\"movielens_small/ml-latest-small/ratings.csv\")\n",
    "\n",
    "print(\"\\nMovies DataFrame:\")\n",
    "display(movies_df.head())\n",
    "\n",
    "print(\"\\nRatings DataFrame:\")\n",
    "display(ratings_df.head())"
   ]
  },
  {
   "cell_type": "markdown",
   "id": "4a3e9e10",
   "metadata": {},
   "source": [
    "## 2. Data Preparation: Creating the User-Item Matrix\n",
    "\n",
    "The raw ratings data is in a \"long\" format (one row per rating). To use it with k-NN, we need to transform it into a \"wide\" user-item matrix where:\n",
    "- Each **row** is a **movie**.\n",
    "- Each **column** is a **user**.\n",
    "- Each **value** is the **rating** the user gave the movie.\n",
    "\n",
    "This matrix will be very large and mostly empty (sparse), since most users have not rated most movies. We'll use a `scipy.sparse.csr_matrix` to store this data efficiently."
   ]
  },
  {
   "cell_type": "code",
   "execution_count": null,
   "id": "6d1bef3d",
   "metadata": {},
   "outputs": [],
   "source": [
    "print(\"Preparing the data for the model...\")\n",
    "\n",
    "# Create a pivot table: movies as rows, users as columns, ratings as values\n",
    "movie_user_matrix_df = ratings_df.pivot(\n",
    "    index='movieId',\n",
    "    columns='userId',\n",
    "    values='rating'\n",
    ").fillna(0) # Fill missing ratings with 0\n",
    "\n",
    "# Convert the Pandas DataFrame into a memory-efficient SciPy sparse matrix\n",
    "movie_user_matrix_sparse = csr_matrix(movie_user_matrix_df.values)\n",
    "\n",
    "print(\"Movie-user matrix created successfully.\")\n",
    "print(f\"Sparse matrix shape: {movie_user_matrix_sparse.shape}\")"
   ]
  },
  {
   "cell_type": "markdown",
   "id": "d925c0c0",
   "metadata": {},
   "source": [
    "## 3. Training the k-NN Model\n",
    "\n",
    "Now we can train our `NearestNeighbors` model. We'll use the **cosine similarity** metric, which is excellent for measuring the similarity between item vectors based on user ratings."
   ]
  },
  {
   "cell_type": "code",
   "execution_count": null,
   "id": "0141b1fb",
   "metadata": {},
   "outputs": [],
   "source": [
    "print(\"Training the k-Nearest Neighbors model...\")\n",
    "\n",
    "# Instantiate the model\n",
    "# n_neighbors is set to 11 because the first neighbor will always be the movie itself\n",
    "model_knn = NearestNeighbors(n_neighbors=11, \n",
    "                             metric='cosine', \n",
    "                             algorithm='brute')\n",
    "\n",
    "# Train the model with our sparse matrix\n",
    "model_knn.fit(movie_user_matrix_sparse)\n",
    "\n",
    "print(\"Model trained successfully!\")"
   ]
  },
  {
   "cell_type": "markdown",
   "id": "a4daee6b",
   "metadata": {},
   "source": [
    "## 4. Building the Recommendation Function\n",
    "\n",
    "With a trained model, we can create a function that takes a movie title, finds its nearest neighbors in the rating space, and returns them as a list of recommendations."
   ]
  },
  {
   "cell_type": "code",
   "execution_count": null,
   "id": "a8bf4958",
   "metadata": {},
   "outputs": [],
   "source": [
    "def get_recommendations(movie_title, model, matrix, movie_df, matrix_df):\n",
    "    \"\"\"\n",
    "    Finds and returns 10 movie recommendations for a given movie title.\n",
    "    \"\"\"\n",
    "    print(f\"Finding recommendations for: '{movie_title}'\")\n",
    "    \n",
    "    # 1. Find the movie's ID from its title\n",
    "    try:\n",
    "        movie_id = movie_df[movie_df['title'] == movie_title].iloc[0]['movieId']\n",
    "    except IndexError:\n",
    "        print(f\"--> Movie '{movie_title}' not found in the dataset.\")\n",
    "        return\n",
    "\n",
    "    # 2. Find the internal matrix index for that movie ID\n",
    "    try:\n",
    "        movie_index = matrix_df.index.get_loc(movie_id)\n",
    "    except KeyError:\n",
    "        print(f\"--> Movie '{movie_title}' has no ratings and cannot be used for recommendations.\")\n",
    "        return\n",
    "\n",
    "    # 3. Use the k-NN model to find the nearest neighbors\n",
    "    movie_vector = matrix[movie_index].reshape(1, -1)\n",
    "    distances, indices = model.kneighbors(movie_vector)\n",
    "    \n",
    "    # 4. Get the top 10 neighbors (ignoring the first one, which is the movie itself)\n",
    "    neighbor_indices = indices.flatten()[1:]\n",
    "    \n",
    "    # 5. Convert the matrix indices back to movie titles for the final output\n",
    "    recommended_movie_ids = matrix_df.index[neighbor_indices]\n",
    "    recommendations = movie_df[movie_df['movieId'].isin(recommended_movie_ids)]\n",
    "    \n",
    "    return recommendations"
   ]
  },
  {
   "cell_type": "markdown",
   "id": "3989c306",
   "metadata": {},
   "source": [
    "## 5. Testing the Recommender\n",
    "\n",
    "Let's test our system with a few different movies to see the recommendations in action."
   ]
  },
  {
   "cell_type": "code",
   "execution_count": null,
   "id": "f102dd15",
   "metadata": {},
   "outputs": [],
   "source": [
    "# Test with a classic animation\n",
    "recommendations = get_recommendations(\n",
    "    'Toy Story (1995)', \n",
    "    model_knn, \n",
    "    movie_user_matrix_sparse, \n",
    "    movies_df, \n",
    "    movie_user_matrix_df\n",
    ")\n",
    "\n",
    "if recommendations is not None:\n",
    "    print(\"\\nRecommended movies:\")\n",
    "    display(recommendations[['title', 'genres']])\n",
    "\n",
    "# Test with a classic action movie\n",
    "print(\"\\n\" + \"-\" * 50)\n",
    "recommendations = get_recommendations(\n",
    "    'Jumanji (1995)', \n",
    "    model_knn, \n",
    "    movie_user_matrix_sparse, \n",
    "    movies_df, \n",
    "    movie_user_matrix_df\n",
    ")\n",
    "\n",
    "if recommendations is not None:\n",
    "    print(\"\\nRecommended movies:\")\n",
    "    display(recommendations[['title', 'genres']])"
   ]
  },
  {
   "cell_type": "markdown",
   "id": "46f9d91c",
   "metadata": {},
   "source": [
    "## 6. Bonus: Visualizing the Movie Space with UMAP\n",
    "\n",
    "To better understand our data, we can use another `cuml` algorithm, **UMAP**, for dimensionality reduction. This will project our high-dimensional movie vectors (one dimension per user) down to 2D, allowing us to create a \"map\" of all movies. On this map, movies with similar rating patterns will appear closer together."
   ]
  },
  {
   "cell_type": "code",
   "execution_count": null,
   "id": "9ecbd678",
   "metadata": {},
   "outputs": [],
   "source": [
    "print(\"Reducing dimensionality with UMAP for visualization...\")\n",
    "\n",
    "# Instantiate and fit the UMAP model\n",
    "umap = UMAP(n_components=2, random_state=42)\n",
    "movie_vectors_2d = umap.fit_transform(movie_user_matrix_sparse)\n",
    "\n",
    "# Create the scatter plot\n",
    "fig, ax = plt.subplots(figsize=(16, 12))\n",
    "ax.scatter(movie_vectors_2d[:, 0], movie_vectors_2d[:, 1], s=1, alpha=0.5)\n",
    "ax.set_title(\"2D Map of All Movies in the User-Rating Space\")\n",
    "ax.set_xlabel(\"UMAP Component 1\")\n",
    "ax.set_ylabel(\"UMAP Component 2\")\n",
    "plt.show()"
   ]
  },
  {
   "cell_type": "markdown",
   "id": "bfb7326d",
   "metadata": {},
   "source": [
    "## 7. Conclusion\n",
    "\n",
    "In this notebook, we successfully built a functional, GPU-accelerated movie recommendation system. By representing movies as vectors in a user-rating space, we used `cuml.neighbors.NearestNeighbors` to find similar items and provide relevant recommendations. The final UMAP visualization further illustrates the relationships between movies that the model learned.\n",
    "\n",
    "This example demonstrates how a powerful primitive like k-NN can be applied to solve a common, real-world data science problem."
   ]
  }
 ],
 "metadata": {
  "kernelspec": {
   "display_name": "rapids-25.08",
   "language": "python",
   "name": "python3"
  },
  "language_info": {
   "codemirror_mode": {
    "name": "ipython",
    "version": 3
   },
   "file_extension": ".py",
   "mimetype": "text/x-python",
   "name": "python",
   "nbconvert_exporter": "python",
   "pygments_lexer": "ipython3",
   "version": "3.13.5"
  }
 },
 "nbformat": 4,
 "nbformat_minor": 5
}
