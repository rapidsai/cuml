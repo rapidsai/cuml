{
 "cells": [
  {
   "cell_type": "markdown",
   "id": "470981d2",
   "metadata": {},
   "source": [
    "# cuML Quickstart: CPU vs. GPU Acceleration\n",
    "\n",
    "This notebook provides a direct performance comparison for the K-Nearest Neighbors algorithm, showcasing the speed advantage of using `cuml` on a GPU over `scikit-learn` on a CPU.\n",
    "\n",
    "We will compare three implementations:\n",
    "1.  **Scikit-learn**: The standard CPU baseline.\n",
    "2.  **cuML (Brute Force)**: A direct, apples-to-apples comparison on the GPU.\n",
    "3.  **cuML (IVF-Flat)**: A more advanced, index-based algorithm for even greater acceleration on large datasets.\n",
    "\n",
    "**Useful Links:**\n",
    "* cuML Documentation: https://docs.rapids.ai/api/cuml/stable"
   ]
  },
  {
   "cell_type": "markdown",
   "id": "4ef09197",
   "metadata": {},
   "source": [
    "## 1. Setup\n",
    "\n",
    "### Environment\n",
    "\n",
    "To run this notebook, you need a machine with an NVIDIA GPU and a RAPIDS environment. The recommended way to install RAPIDS is with Conda, as it manages both the Python packages and the underlying CUDA libraries.\n",
    "\n",
    "Please visit the **[RAPIDS Release Selector](https://rapids.ai/start.html#get-rapids)** to generate the specific `conda` command for your system.\n",
    "\n",
    "An example command might look like this (do not run, use the official selector):\n",
    "`conda create -n rapids-25.08 -c rapidsai -c conda-forge -c nvidia cuml cudf cupy python=3.10 cuda-version=12.0`"
   ]
  },
  {
   "cell_type": "code",
   "execution_count": null,
   "id": "1f49e8b2",
   "metadata": {},
   "outputs": [],
   "source": [
    "import cudf\n",
    "import cupy as cp\n",
    "import numpy as np\n",
    "import pandas as pd\n",
    "import time\n",
    "\n",
    "# Import the models we will compare\n",
    "from sklearn.neighbors import NearestNeighbors as skNearestNeighbors\n",
    "from cuml.neighbors import NearestNeighbors as cumlNearestNeighbors\n",
    "from cuml.datasets import make_blobs"
   ]
  },
  {
   "cell_type": "markdown",
   "id": "52b401e7",
   "metadata": {},
   "source": [
    "### Data Generation\n",
    "\n",
    "We'll generate a synthetic dataset to use for our benchmarks. The data will be created directly on the GPU using `cuml.datasets.make_blobs`, and a copy will be transferred to the CPU for the scikit-learn comparison."
   ]
  },
  {
   "cell_type": "code",
   "execution_count": null,
   "id": "654358c7",
   "metadata": {},
   "outputs": [],
   "source": [
    "# Define parameters for the experiment\n",
    "n_samples = 50000\n",
    "n_features = 50\n",
    "n_neighbors = 10\n",
    "\n",
    "# Generate the data directly on the GPU\n",
    "X_gpu, _ = make_blobs(n_samples=n_samples, \n",
    "                      n_features=n_features, \n",
    "                      random_state=42)\n",
    "\n",
    "# Transfer a copy to the CPU (as a NumPy array) for scikit-learn\n",
    "X_cpu = X_gpu.get()\n",
    "\n",
    "print(\"Data generated successfully:\")\n",
    "print(f\"Shape of the data: {X_gpu.shape}\")\n",
    "print(f\"X_gpu type: {type(X_gpu)}\")\n",
    "print(f\"X_cpu type: {type(X_cpu)}\")"
   ]
  },
  {
   "cell_type": "markdown",
   "id": "f418b2a8",
   "metadata": {},
   "source": [
    "## 2. Performance Comparison\n",
    "\n",
    "Now, let's time each of the three implementations.\n",
    "\n",
    "### A. Scikit-learn (CPU Baseline)\n",
    "\n",
    "First, we'll run the standard `NearestNeighbors` on the CPU. This will serve as our performance baseline."
   ]
  },
  {
   "cell_type": "code",
   "execution_count": null,
   "id": "d7943bc5",
   "metadata": {},
   "outputs": [],
   "source": [
    "# Instantiate the scikit-learn model\n",
    "model_sk = skNearestNeighbors(n_neighbors=n_neighbors)\n",
    "\n",
    "# Start the timer\n",
    "start_time = time.time()\n",
    "\n",
    "# Fit the model and find the neighbors using CPU data\n",
    "model_sk.fit(X_cpu)\n",
    "distances, indices = model_sk.kneighbors(X_cpu)\n",
    "\n",
    "# Stop the timer\n",
    "end_time = time.time()\n",
    "\n",
    "# Calculate and print the duration\n",
    "time_sk = end_time - start_time\n",
    "print(f\"Scikit-learn (CPU) time: {time_sk:.4f} seconds\")"
   ]
  },
  {
   "cell_type": "markdown",
   "id": "5255425a",
   "metadata": {},
   "source": [
    "### B. Standard cuML (GPU Brute-Force)\n",
    "\n",
    "Next, we'll perform the same task on the GPU. We'll specify `algorithm='brute'` for a direct, apples-to-apples comparison with scikit-learn's method."
   ]
  },
  {
   "cell_type": "code",
   "execution_count": null,
   "id": "64caecf3",
   "metadata": {},
   "outputs": [],
   "source": [
    "# Instantiate the standard cuML model\n",
    "model_cuml = cumlNearestNeighbors(n_neighbors=n_neighbors, algorithm='brute')\n",
    "\n",
    "# Start the timer\n",
    "start_time = time.time()\n",
    "\n",
    "# Fit the model and find the neighbors using GPU data\n",
    "model_cuml.fit(X_gpu)\n",
    "distances_cuml, indices_cuml = model_cuml.kneighbors(X_gpu)\n",
    "\n",
    "# IMPORTANT: Synchronize the GPU to get an accurate timing\n",
    "cp.cuda.runtime.deviceSynchronize()\n",
    "\n",
    "# Stop the timer\n",
    "end_time = time.time()\n",
    "\n",
    "# Calculate and print the duration\n",
    "time_cuml = end_time - start_time\n",
    "print(f\"Standard cuML (GPU, Brute) time: {time_cuml:.4f} seconds\")\n",
    "print(f\"Speedup vs CPU: {time_sk / time_cuml:.2f}x\")"
   ]
  },
  {
   "cell_type": "markdown",
   "id": "0a33b44e",
   "metadata": {},
   "source": [
    "### C. Accelerated cuML (GPU with IVF-Flat)\n",
    "\n",
    "Finally, we'll test the more advanced `ivfflat` algorithm. Instead of brute-force, this method builds an index to partition the data, allowing for much faster queries on large datasets. While there is a small upfront cost to build the index, the query speed is significantly improved."
   ]
  },
  {
   "cell_type": "code",
   "execution_count": null,
   "id": "4be96b7d",
   "metadata": {},
   "outputs": [],
   "source": [
    "# Instantiate the accelerated cuML model\n",
    "model_accel = cumlNearestNeighbors(n_neighbors=n_neighbors, algorithm='ivfflat')\n",
    "\n",
    "# Start the timer\n",
    "start_time = time.time()\n",
    "\n",
    "# Fit the model (which includes building the index) and find neighbors\n",
    "model_accel.fit(X_gpu)\n",
    "distances_accel, indices_accel = model_accel.kneighbors(X_gpu)\n",
    "\n",
    "# Synchronize the GPU\n",
    "cp.cuda.runtime.deviceSynchronize()\n",
    "\n",
    "# Stop the timer\n",
    "end_time = time.time()\n",
    "\n",
    "# Calculate and print the duration\n",
    "time_accel = end_time - start_time\n",
    "print(f\"Accelerated cuML (GPU, IVF-Flat) time: {time_accel:.4f} seconds\")\n",
    "print(f\"Speedup vs CPU: {time_sk / time_accel:.2f}x\")\n",
    "print(f\"Speedup vs Standard GPU: {time_cuml / time_accel:.2f}x\")"
   ]
  },
  {
   "cell_type": "markdown",
   "id": "d0f896b4",
   "metadata": {},
   "source": [
    "## 3. Summary\n",
    "\n",
    "The results clearly demonstrate the performance benefits of GPU acceleration. Moving from a CPU to a GPU provides a significant speedup, and choosing a specialized, index-based algorithm like `ivfflat` can boost performance even further."
   ]
  },
  {
   "cell_type": "code",
   "execution_count": null,
   "id": "46d7d6d4",
   "metadata": {},
   "outputs": [],
   "source": [
    "# Create a summary DataFrame for a clean display\n",
    "summary_data = {\n",
    "    \"Implementation\": [\"Scikit-learn (CPU)\", \"cuML (GPU, Brute)\", \"cuML (GPU, IVF-Flat)\"],\n",
    "    \"Time (s)\": [time_sk, time_cuml, time_accel],\n",
    "    \"Speedup vs CPU\": [1.0, time_sk / time_cuml, time_sk / time_accel]\n",
    "}\n",
    "summary_df = pd.DataFrame(summary_data)\n",
    "\n",
    "# Format the floats for better readability\n",
    "summary_df['Time (s)'] = summary_df['Time (s)'].map('{:.4f}'.format)\n",
    "summary_df['Speedup vs CPU'] = summary_df['Speedup vs CPU'].map('{:.2f}x'.format)\n",
    "\n",
    "display(summary_df)"
   ]
  }
 ],
 "metadata": {
  "kernelspec": {
   "display_name": "rapids-25.08",
   "language": "python",
   "name": "python3"
  },
  "language_info": {
   "codemirror_mode": {
    "name": "ipython",
    "version": 3
   },
   "file_extension": ".py",
   "mimetype": "text/x-python",
   "name": "python",
   "nbconvert_exporter": "python",
   "pygments_lexer": "ipython3",
   "version": "3.13.5"
  }
 },
 "nbformat": 4,
 "nbformat_minor": 5
}
